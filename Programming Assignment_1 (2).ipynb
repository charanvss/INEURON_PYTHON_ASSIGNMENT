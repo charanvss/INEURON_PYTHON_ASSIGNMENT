{
 "cells": [
  {
   "cell_type": "markdown",
   "id": "637b47a5",
   "metadata": {},
   "source": [
    "## Programming Assignment_1\n",
    "-------------"
   ]
  },
  {
   "cell_type": "markdown",
   "id": "0c647dbe",
   "metadata": {},
   "source": [
    "### 1. Write a Python program to print \"Hello Python\"?"
   ]
  },
  {
   "cell_type": "code",
   "execution_count": 1,
   "id": "18e2b1d1",
   "metadata": {},
   "outputs": [
    {
     "name": "stdout",
     "output_type": "stream",
     "text": [
      "hello Python\n"
     ]
    }
   ],
   "source": [
    "print(\"hello Python\")"
   ]
  },
  {
   "cell_type": "markdown",
   "id": "fc18a6cd",
   "metadata": {},
   "source": [
    "### 2. Write a Python program to do arithmetical operations addition and division.?\n"
   ]
  },
  {
   "cell_type": "code",
   "execution_count": 5,
   "id": "db82c2c6",
   "metadata": {},
   "outputs": [
    {
     "name": "stdout",
     "output_type": "stream",
     "text": [
      "enter a value40\n",
      "enter b value60\n",
      "100\n",
      "0.6666666666666666\n"
     ]
    }
   ],
   "source": [
    "a = int(input(\"enter a value\"))\n",
    "b = int(input(\"enter b value\"))\n",
    "c = a+b\n",
    "d = a/b\n",
    "print(c)\n",
    "print(d)"
   ]
  },
  {
   "cell_type": "markdown",
   "id": "af6e2429",
   "metadata": {},
   "source": [
    "### 3. Write a Python program to find the area of a triangle?\n"
   ]
  },
  {
   "cell_type": "code",
   "execution_count": 6,
   "id": "a6bf9420",
   "metadata": {},
   "outputs": [
    {
     "name": "stdout",
     "output_type": "stream",
     "text": [
      "enter base value50\n",
      "enter height value50\n",
      "1250.0\n"
     ]
    }
   ],
   "source": [
    "base = int(input(\"enter base value\"))\n",
    "height = int(input(\"enter height value\"))\n",
    "Area = 0.5*base*height\n",
    "print(Area)"
   ]
  },
  {
   "cell_type": "markdown",
   "id": "b8140061",
   "metadata": {},
   "source": [
    "### 4. Write a Python program to swap two variables?\n"
   ]
  },
  {
   "cell_type": "code",
   "execution_count": 25,
   "id": "ab9da751",
   "metadata": {},
   "outputs": [
    {
     "name": "stdout",
     "output_type": "stream",
     "text": [
      "enter value of a: 40\n",
      "enter value of b: 50\n",
      "value of a after swapping : 50\n",
      "value of b after swapping :40\n"
     ]
    }
   ],
   "source": [
    "a = int(input(\"enter value of a: \"))\n",
    "b = int(input(\"enter value of b: \"))\n",
    "c = a\n",
    "a = b\n",
    "b = c\n",
    "print('value of a after swapping : {}' .format(a))\n",
    "print('value of b after swapping :{}' . format(b))\n"
   ]
  },
  {
   "cell_type": "code",
   "execution_count": null,
   "id": "dee0c7eb",
   "metadata": {},
   "outputs": [],
   "source": []
  },
  {
   "cell_type": "markdown",
   "id": "3f8054c1",
   "metadata": {},
   "source": [
    "### 5. Write a Python program to generate a random number?\n"
   ]
  },
  {
   "cell_type": "code",
   "execution_count": 20,
   "id": "9bca122d",
   "metadata": {},
   "outputs": [
    {
     "name": "stdout",
     "output_type": "stream",
     "text": [
      "eneter a value5\n",
      "enter maximum value200\n",
      "45\n",
      "101\n",
      "13\n",
      "119\n",
      "189\n"
     ]
    }
   ],
   "source": [
    "num = int(input(\"eneter a value\"))\n",
    "max =  int(input(\"enter maximum value\"))\n",
    "for i in range(num):\n",
    "    print(random.randint(0,max))"
   ]
  },
  {
   "cell_type": "code",
   "execution_count": null,
   "id": "f91b1fc6",
   "metadata": {},
   "outputs": [],
   "source": []
  }
 ],
 "metadata": {
  "kernelspec": {
   "display_name": "Python 3 (ipykernel)",
   "language": "python",
   "name": "python3"
  },
  "language_info": {
   "codemirror_mode": {
    "name": "ipython",
    "version": 3
   },
   "file_extension": ".py",
   "mimetype": "text/x-python",
   "name": "python",
   "nbconvert_exporter": "python",
   "pygments_lexer": "ipython3",
   "version": "3.9.12"
  }
 },
 "nbformat": 4,
 "nbformat_minor": 5
}
