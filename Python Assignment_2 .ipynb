{
 "cells": [
  {
   "cell_type": "markdown",
   "id": "08c66ea5",
   "metadata": {},
   "source": [
    "## Programming Assignment_2\n",
    "-------------"
   ]
  },
  {
   "cell_type": "markdown",
   "id": "4e50cf42",
   "metadata": {},
   "source": [
    "### 1. Write a Python program to convert kilometers to miles?\n"
   ]
  },
  {
   "cell_type": "code",
   "execution_count": 13,
   "id": "3b147a50",
   "metadata": {},
   "outputs": [
    {
     "name": "stdout",
     "output_type": "stream",
     "text": [
      "enter the value of kilometers5\n",
      "5 km = 3.106855 miles\n"
     ]
    }
   ],
   "source": [
    "a = int(input(\"enter the value of kilometers\"))\n",
    "conversion_factor = 0.621371\n",
    "miles = a * conversion_factor\n",
    "print(\"{} km = {} miles\" .format(a,miles))\n"
   ]
  },
  {
   "cell_type": "markdown",
   "id": "0df4e6bf",
   "metadata": {},
   "source": [
    "### 2.Write a Python program to convert Celsius to Fahrenheit?"
   ]
  },
  {
   "cell_type": "code",
   "execution_count": 18,
   "id": "c7c1b341",
   "metadata": {},
   "outputs": [
    {
     "name": "stdout",
     "output_type": "stream",
     "text": [
      "eneter the value in celsius15.69\n",
      "15.69 Celsius = 60.24 Fahrenheit\n"
     ]
    }
   ],
   "source": [
    "celsius = float(input(\"eneter the value in celsius\"))\n",
    "fahrenheit = (celsius * 9/5) +32\n",
    "print('%.2f Celsius = %0.2f Fahrenheit' %(celsius, fahrenheit))"
   ]
  },
  {
   "cell_type": "markdown",
   "id": "46129b8e",
   "metadata": {},
   "source": [
    "### 3. Write a Python program to display calendar?\n"
   ]
  },
  {
   "cell_type": "code",
   "execution_count": 5,
   "id": "4d97fe4d",
   "metadata": {},
   "outputs": [
    {
     "name": "stdout",
     "output_type": "stream",
     "text": [
      "enter year :2022\n",
      "enter month :11\n",
      "   November 2022\n",
      "Mo Tu We Th Fr Sa Su\n",
      "    1  2  3  4  5  6\n",
      " 7  8  9 10 11 12 13\n",
      "14 15 16 17 18 19 20\n",
      "21 22 23 24 25 26 27\n",
      "28 29 30\n",
      "\n"
     ]
    }
   ],
   "source": [
    "import calendar\n",
    "year = int(input(\"enter year :\"))\n",
    "month = int(input(\"enter month :\"))\n",
    "my_calendar = calendar.month(year,month)\n",
    "print(my_calendar)"
   ]
  },
  {
   "cell_type": "markdown",
   "id": "db2bf0f7",
   "metadata": {},
   "source": [
    "### 4. Write a Python program to solve quadratic equation?"
   ]
  },
  {
   "cell_type": "code",
   "execution_count": 8,
   "id": "ffccce56",
   "metadata": {},
   "outputs": [
    {
     "name": "stdout",
     "output_type": "stream",
     "text": [
      "Insert value a: 20\n",
      "Insert value b: 15\n",
      "Insert value c: 6\n",
      "The function has two distinct real roots: (-0.375+0.3992179855667828j) and (-0.375-0.3992179855667828j)\n"
     ]
    }
   ],
   "source": [
    "import math\n",
    " \n",
    "a = float(input(\"Insert value a: \"))\n",
    "b = float(input(\"Insert value b: \"))\n",
    "c = float(input(\"Insert value c: \"))\n",
    " \n",
    "discriminant = b**2 - 4 * a * c\n",
    " \n",
    "if discriminant >= 0:\n",
    "    root1=(-b+math.sqrt(discriminant))/2*a\n",
    "    root2=(-b-math.sqrt(discriminant))/2*a\n",
    "else:\n",
    "    root1= complex((-b/(2*a)),math.sqrt(-discriminant)/(2*a))\n",
    "    root2= complex((-b/(2*a)),-math.sqrt(-discriminant)/(2*a))\n",
    " \n",
    "if discriminant < 0:\n",
    "    print(\"The function has two distinct real roots: {} and {}\".format(root1,root2))\n",
    "elif discriminant == 0:\n",
    "    print(\"The function has one double root: \", root1)\n",
    "else:\n",
    "    print(\"The function has two complex (conjugate) roots: {}  and {}\".format(root1,root2))\n"
   ]
  },
  {
   "cell_type": "markdown",
   "id": "f70f74c9",
   "metadata": {},
   "source": [
    "### 5. Write a Python program to swap two variables without temp variable?"
   ]
  },
  {
   "cell_type": "code",
   "execution_count": 4,
   "id": "12059168",
   "metadata": {},
   "outputs": [
    {
     "name": "stdout",
     "output_type": "stream",
     "text": [
      "Enter value of a : 6\n",
      "Enter value of b: 5\n",
      "After swapping two variables we get: \n",
      "Value of a is: 5\n",
      "Value of b: 6\n"
     ]
    }
   ],
   "source": [
    "a=int(input(\"Enter value of a : \"))\n",
    "b=int(input(\"Enter value of b: \"))\n",
    "a=a+b\n",
    "b=a-b\n",
    "a=a-b\n",
    "print(\"After swapping two variables we get: \")\n",
    "print(\"Value of a is:\",a)\n",
    "print(\"Value of b:\",b)"
   ]
  },
  {
   "cell_type": "code",
   "execution_count": null,
   "id": "2e60be6f",
   "metadata": {},
   "outputs": [],
   "source": []
  }
 ],
 "metadata": {
  "kernelspec": {
   "display_name": "Python 3 (ipykernel)",
   "language": "python",
   "name": "python3"
  },
  "language_info": {
   "codemirror_mode": {
    "name": "ipython",
    "version": 3
   },
   "file_extension": ".py",
   "mimetype": "text/x-python",
   "name": "python",
   "nbconvert_exporter": "python",
   "pygments_lexer": "ipython3",
   "version": "3.9.13"
  }
 },
 "nbformat": 4,
 "nbformat_minor": 5
}
