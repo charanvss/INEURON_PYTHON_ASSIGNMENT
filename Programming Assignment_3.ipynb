{
 "cells": [
  {
   "cell_type": "markdown",
   "id": "ad3c798a",
   "metadata": {},
   "source": [
    "## Programming Assignment_3\n",
    "----------------"
   ]
  },
  {
   "cell_type": "markdown",
   "id": "fdeb4706",
   "metadata": {},
   "source": [
    "### 1. Write a Python Program to Check if a Number is Positive, Negative or Zero?"
   ]
  },
  {
   "cell_type": "code",
   "execution_count": 3,
   "id": "34fdb50c",
   "metadata": {},
   "outputs": [
    {
     "name": "stdout",
     "output_type": "stream",
     "text": [
      "enter  value of a :55\n",
      "a is a positive number\n"
     ]
    }
   ],
   "source": [
    "a = int(input(\"enter  value of a :\"))\n",
    "if a >= 0:\n",
    "    if a == 0:\n",
    "        print(\"value of a is equal to zero\")\n",
    "    print(\"a is a positive number\")\n",
    "else:\n",
    "    print(\"a is a negative number\")"
   ]
  },
  {
   "cell_type": "markdown",
   "id": "086bfded",
   "metadata": {},
   "source": [
    "### 2. Write a Python Program to Check if a Number is Odd or Even?\n"
   ]
  },
  {
   "cell_type": "code",
   "execution_count": 5,
   "id": "5525340c",
   "metadata": {},
   "outputs": [
    {
     "name": "stdout",
     "output_type": "stream",
     "text": [
      "enter value of a : 1\n",
      "a is a odd number\n"
     ]
    }
   ],
   "source": [
    "a = int(input(\"enter value of a : \"))\n",
    "if a%2 == 0:\n",
    "    print(\"a is a even number\")\n",
    "else:\n",
    "    print(\"a is a odd number\")"
   ]
  },
  {
   "cell_type": "markdown",
   "id": "575e4f94",
   "metadata": {},
   "source": [
    "### 3. Write a Python Program to Check Leap Year?\n"
   ]
  },
  {
   "cell_type": "code",
   "execution_count": 2,
   "id": "2361bb6a",
   "metadata": {},
   "outputs": [
    {
     "name": "stdout",
     "output_type": "stream",
     "text": [
      "enter value of a :1999\n",
      "1999 is not a leap year\n"
     ]
    }
   ],
   "source": [
    "a = int(input(\"enter value of a :\"))\n",
    "if (a%4 == 0):\n",
    "    print(\"{} is a leap year\".format(a))   \n",
    "else:\n",
    "    print(\"{} is not a leap year\".format(a))   \n",
    "\n",
    "        "
   ]
  },
  {
   "cell_type": "markdown",
   "id": "aa83ce63",
   "metadata": {},
   "source": [
    "### 4. Write a Python Program to Check Prime Number?"
   ]
  },
  {
   "cell_type": "code",
   "execution_count": 3,
   "id": "861ee667",
   "metadata": {},
   "outputs": [
    {
     "name": "stdout",
     "output_type": "stream",
     "text": [
      "Enter a number: 5\n",
      "5 is a Prime number\n"
     ]
    }
   ],
   "source": [
    "a = int(input(\"Enter a number: \"))\n",
    "\n",
    "if a > 1:\n",
    "    for i in range(2,(a//2)+1):\n",
    "        if (a % i == 0):\n",
    "            print(a, \"is not a Prime number\")\n",
    "            break\n",
    "    else:\n",
    "        print(a,\"is a Prime number\")\n",
    "   \n",
    "else:\n",
    "    print(a,\"is not a Prime number\")"
   ]
  },
  {
   "cell_type": "markdown",
   "id": "b44b54ff",
   "metadata": {},
   "source": [
    "### 5. Write a Python Program to Print all Prime Numbers in an Interval of 1-10000?"
   ]
  },
  {
   "cell_type": "code",
   "execution_count": 8,
   "id": "6fcb4bfa",
   "metadata": {},
   "outputs": [
    {
     "name": "stdout",
     "output_type": "stream",
     "text": [
      "enter value of a :100\n",
      "enter value of b :150\n",
      "Prime numbers in  between 100 and 150 are:\n",
      "101\n",
      "103\n",
      "107\n",
      "109\n",
      "113\n",
      "127\n",
      "131\n",
      "137\n",
      "139\n",
      "149\n"
     ]
    }
   ],
   "source": [
    "a = int(input(\"enter value of a :\"))\n",
    "b = int(input(\"enter value of b :\"))\n",
    "\n",
    "print(\"Prime numbers in  between\", a, \"and\", b, \"are:\")\n",
    "\n",
    "for prime in range(a, b + 1):\n",
    "   if prime > 1:\n",
    "       for i in range(2, prime):\n",
    "           if (prime % i) == 0:\n",
    "               break\n",
    "       else:\n",
    "           print(prime)"
   ]
  },
  {
   "cell_type": "code",
   "execution_count": null,
   "id": "d734e195",
   "metadata": {},
   "outputs": [],
   "source": []
  },
  {
   "cell_type": "code",
   "execution_count": null,
   "id": "d1b90019",
   "metadata": {},
   "outputs": [],
   "source": []
  }
 ],
 "metadata": {
  "kernelspec": {
   "display_name": "Python 3 (ipykernel)",
   "language": "python",
   "name": "python3"
  },
  "language_info": {
   "codemirror_mode": {
    "name": "ipython",
    "version": 3
   },
   "file_extension": ".py",
   "mimetype": "text/x-python",
   "name": "python",
   "nbconvert_exporter": "python",
   "pygments_lexer": "ipython3",
   "version": "3.9.13"
  }
 },
 "nbformat": 4,
 "nbformat_minor": 5
}
