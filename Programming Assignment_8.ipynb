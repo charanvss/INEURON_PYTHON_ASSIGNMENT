{
 "cells": [
  {
   "cell_type": "markdown",
   "id": "9b304197",
   "metadata": {},
   "source": [
    "# Python Basic Programming Assignment 8"
   ]
  },
  {
   "cell_type": "markdown",
   "id": "22789ae6",
   "metadata": {},
   "source": [
    "### 1. Write a Python Program to Add Two Matrices?"
   ]
  },
  {
   "cell_type": "code",
   "execution_count": 4,
   "id": "f9d56647",
   "metadata": {},
   "outputs": [
    {
     "name": "stdout",
     "output_type": "stream",
     "text": [
      "[9, 15, 15]\n",
      "[7, 12, 8]\n",
      "[12, 4, 10]\n"
     ]
    }
   ],
   "source": [
    "X = [[1,6,8],[4 ,7,4],[4 ,2,9]]\n",
    "  \n",
    "Y = [[8,9,7],[3,5,4],[8,2,1]]\n",
    " \n",
    "result = [[X[i][j] + Y[i][j]  for j in range\n",
    "(len(X[0]))] for i in range(len(X))]\n",
    "  \n",
    "for r in result:\n",
    "    print(r)"
   ]
  },
  {
   "cell_type": "markdown",
   "id": "044ceda6",
   "metadata": {},
   "source": [
    "### 2. Write a Python Program to Multiply Two Matrices?"
   ]
  },
  {
   "cell_type": "code",
   "execution_count": 9,
   "id": "b1d91ee8",
   "metadata": {},
   "outputs": [
    {
     "name": "stdout",
     "output_type": "stream",
     "text": [
      "[114, 160, 60, 27]\n",
      "[74, 97, 73, 14]\n",
      "[119, 157, 112, 23]\n"
     ]
    }
   ],
   "source": [
    "a = [[12, 7, 3],[4, 5, 6],[7, 8, 9]]\n",
    " \n",
    "b = [[5, 8, 1, 2],[6, 7, 3, 0],[4, 5, 9, 1]]\n",
    "     \n",
    "result = [[sum(a * b for a, b in zip(A_row, B_col))\n",
    "                        for B_col in zip(*B)]\n",
    "                                for A_row in A]\n",
    "for r in result:\n",
    "    print(r)"
   ]
  },
  {
   "cell_type": "markdown",
   "id": "5f688e46",
   "metadata": {},
   "source": [
    "### 3. Write a Python Program to Transpose a Matrix?"
   ]
  },
  {
   "cell_type": "code",
   "execution_count": 25,
   "id": "4cea2483",
   "metadata": {},
   "outputs": [
    {
     "name": "stdout",
     "output_type": "stream",
     "text": [
      "Transpose of a  matrix is\n",
      "1  4  3  4  6  2  6  2  8  7  9  9  2  3  2  8  \n"
     ]
    }
   ],
   "source": [
    "num = 4\n",
    "def transpose(A):\n",
    "   for i in range(num):\n",
    "      for j in range(i+1, num):\n",
    "         A[i][j], A[j][i] = A[j][i], A[i][j]\n",
    "\n",
    "A = [ [1, 6, 8, 2],[4, 2, 7, 3],[3, 6, 9, 2],[4, 2, 9, 8]]\n",
    "transpose(A)\n",
    "print(\"Transpose of a  matrix is\")\n",
    "for i in range(num):\n",
    "    for j in range(num):\n",
    "      print(A[i][j], \" \", end='')\n",
    "print()"
   ]
  },
  {
   "cell_type": "markdown",
   "id": "b2849025",
   "metadata": {},
   "source": [
    "\n",
    "### 4. Write a Python Program to Sort Words in Alphabetic Order?\n"
   ]
  },
  {
   "cell_type": "code",
   "execution_count": 21,
   "id": "b85d943b",
   "metadata": {},
   "outputs": [
    {
     "name": "stdout",
     "output_type": "stream",
     "text": [
      "Enter a string: my name is charanteja\n",
      "charanteja\n",
      "is\n",
      "my\n",
      "name\n"
     ]
    }
   ],
   "source": [
    "my_str = input(\"Enter a string: \")\n",
    " \n",
    "words = my_str.split()\n",
    "words.sort()\n",
    "for word in words:\n",
    "   print(word)"
   ]
  },
  {
   "cell_type": "markdown",
   "id": "48ac7b24",
   "metadata": {},
   "source": [
    "### 5. Write a Python Program to Remove Punctuation From a String?"
   ]
  },
  {
   "cell_type": "code",
   "execution_count": 30,
   "id": "b1a66b5e",
   "metadata": {},
   "outputs": [
    {
     "name": "stdout",
     "output_type": "stream",
     "text": [
      "['Areyou', 'comming,', 'with!', 'me', '']\n"
     ]
    }
   ],
   "source": [
    "import string\n",
    "my_list = [\"Are\" \"you\", \"comming,\", \"with!\", \"me\", \"\"]\n",
    "new_list = [word.translate(string.punctuation) for word in my_list]\n",
    "print(new_list)\n",
    " "
   ]
  },
  {
   "cell_type": "code",
   "execution_count": null,
   "id": "953bb9b8",
   "metadata": {},
   "outputs": [],
   "source": []
  }
 ],
 "metadata": {
  "kernelspec": {
   "display_name": "Python 3 (ipykernel)",
   "language": "python",
   "name": "python3"
  },
  "language_info": {
   "codemirror_mode": {
    "name": "ipython",
    "version": 3
   },
   "file_extension": ".py",
   "mimetype": "text/x-python",
   "name": "python",
   "nbconvert_exporter": "python",
   "pygments_lexer": "ipython3",
   "version": "3.9.13"
  }
 },
 "nbformat": 4,
 "nbformat_minor": 5
}
