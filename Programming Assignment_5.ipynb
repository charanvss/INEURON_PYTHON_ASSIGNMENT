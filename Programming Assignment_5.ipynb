{
 "cells": [
  {
   "cell_type": "markdown",
   "id": "4ac9602a",
   "metadata": {},
   "source": [
    "## Python Basic Programming Assignment - 5\n",
    "--------------\n"
   ]
  },
  {
   "cell_type": "markdown",
   "id": "fdaeee06",
   "metadata": {},
   "source": [
    "### 1. Write a Python Program to Find LCM?"
   ]
  },
  {
   "cell_type": "code",
   "execution_count": 2,
   "id": "87ea2a94",
   "metadata": {},
   "outputs": [
    {
     "name": "stdout",
     "output_type": "stream",
     "text": [
      "enter a number 1 :20\n",
      "enter a number 2 :50\n",
      "The L.C.M. is 100\n"
     ]
    }
   ],
   "source": [
    "def compute_gcd(x, y):\n",
    "\n",
    "   while(y):\n",
    "       x, y = y, x % y\n",
    "   return x\n",
    "def compute_lcm(x, y):\n",
    "   lcm = (x*y)//compute_gcd(x,y)\n",
    "   return lcm\n",
    "\n",
    "num1 = int(input(\"enter a number 1 :\"))\n",
    "num2 = int(input(\"enter a number 2 :\")) \n",
    "\n",
    "print(\"The L.C.M. is\", compute_lcm(num1, num2))"
   ]
  },
  {
   "cell_type": "markdown",
   "id": "2f459cdf",
   "metadata": {},
   "source": [
    "### 2. Write a Python Program to Find HCF?"
   ]
  },
  {
   "cell_type": "code",
   "execution_count": 5,
   "id": "bc8dc720",
   "metadata": {},
   "outputs": [
    {
     "name": "stdout",
     "output_type": "stream",
     "text": [
      "Enter first number: 68\n",
      "Enter second number: 90\n",
      "The H.C.F. of 68 and 90 is 2\n"
     ]
    }
   ],
   "source": [
    "def compute_hcf(x, y):\n",
    " \n",
    "    if x > y:\n",
    "        smaller = y\n",
    "    else:\n",
    "        smaller = x\n",
    "    for i in range(1, smaller+1):\n",
    "        if((x % i == 0) and (y % i == 0)):\n",
    "            hcf = i \n",
    "    return hcf\n",
    " \n",
    "num1 = int(input(\"Enter first number: \"))  \n",
    "num2 = int(input(\"Enter second number: \"))\n",
    " \n",
    "print(\"The H.C.F. of\", num1,\"and\", num2,\"is\", compute_hcf(num1, num2))"
   ]
  },
  {
   "cell_type": "markdown",
   "id": "d2c29370",
   "metadata": {},
   "source": [
    "### 3. Write a Python Program to Convert Decimal to Binary, Octal and Hexadecimal?"
   ]
  },
  {
   "cell_type": "code",
   "execution_count": 9,
   "id": "25ae13ac",
   "metadata": {},
   "outputs": [
    {
     "name": "stdout",
     "output_type": "stream",
     "text": [
      "enter the number :3608\n",
      "Printing the values after the conversion of bases that is decimal to binary,octal,hexadecimal:\n",
      "The binary value of the given decimal number 3608 = 0b111000011000\n",
      "The octal value of the given decimal number 3608 = 0o7030\n",
      "The hexadecimal value of the given decimal number 3608 = 0xe18\n"
     ]
    }
   ],
   "source": [
    "decimal_Number = int(input(\"enter the number :\"))\n",
    "binValue = bin(decimal_Number)\n",
    "octalValue = oct(decimal_Number)\n",
    "hexValue = hex(decimal_Number)\n",
    "print(\"Printing the values after the conversion of bases\"\n",
    "      \" that is decimal to binary,octal,hexadecimal:\")\n",
    "print(\"The binary value of the given decimal number\",\n",
    "      decimal_Number, \"=\", binValue)\n",
    "print(\"The octal value of the given decimal number\",\n",
    "      decimal_Number, \"=\", octalValue)\n",
    "print(\"The hexadecimal value of the given decimal number\",\n",
    "      decimal_Number, \"=\", hexValue)"
   ]
  },
  {
   "cell_type": "markdown",
   "id": "2a16c5fd",
   "metadata": {},
   "source": [
    "### 4. Write a Python Program To Find ASCII value of a character?"
   ]
  },
  {
   "cell_type": "code",
   "execution_count": 21,
   "id": "c8b0dcaa",
   "metadata": {},
   "outputs": [
    {
     "name": "stdout",
     "output_type": "stream",
     "text": [
      "Enter ASCII Value :- 66\n",
      "The ASCII value of '66' is B\n"
     ]
    }
   ],
   "source": [
    "test = input(\"Enter ASCII Value :- \")\n",
    "\n",
    "convertToInt = int(test)\n",
    "\n",
    "convertToAscii = chr(convertToInt)\n",
    "\n",
    "print(\"The ASCII value of '\" + test + \"' is\", convertToAscii)"
   ]
  },
  {
   "cell_type": "markdown",
   "id": "226778a0",
   "metadata": {},
   "source": [
    "### 5. Write a Python Program to Make a Simple Calculator with 4 basic mathematical operations?"
   ]
  },
  {
   "cell_type": "code",
   "execution_count": 20,
   "id": "7ae6cc85",
   "metadata": {},
   "outputs": [
    {
     "name": "stdout",
     "output_type": "stream",
     "text": [
      "enter value of num1 :10\n",
      "enter value of num2 :20\n",
      "30\n",
      "-10\n",
      "200\n",
      "0.5\n",
      "0\n",
      "10\n",
      "100000000000000000000\n"
     ]
    }
   ],
   "source": [
    "num1 = int(input(\"enter value of num1 :\"))\n",
    "num2 = int(input(\"enter value of num2 :\"))\n",
    "\n",
    "print(num1 + num2)  \n",
    "print(num1 - num2) \n",
    "print(num1 * num2) \n",
    "print(num1 / num2)\n",
    "print(num1 // num2)\n",
    "print(num1 % num2) \n",
    "print(num1 ** num2)"
   ]
  },
  {
   "cell_type": "code",
   "execution_count": null,
   "id": "0accf16e",
   "metadata": {},
   "outputs": [],
   "source": []
  }
 ],
 "metadata": {
  "kernelspec": {
   "display_name": "Python 3 (ipykernel)",
   "language": "python",
   "name": "python3"
  },
  "language_info": {
   "codemirror_mode": {
    "name": "ipython",
    "version": 3
   },
   "file_extension": ".py",
   "mimetype": "text/x-python",
   "name": "python",
   "nbconvert_exporter": "python",
   "pygments_lexer": "ipython3",
   "version": "3.9.13"
  }
 },
 "nbformat": 4,
 "nbformat_minor": 5
}
