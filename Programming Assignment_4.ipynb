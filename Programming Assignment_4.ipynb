{
 "cells": [
  {
   "cell_type": "markdown",
   "id": "20cb4340",
   "metadata": {},
   "source": [
    "## Programming Assignment_4\n",
    "----------------"
   ]
  },
  {
   "cell_type": "markdown",
   "id": "4fdb6695",
   "metadata": {},
   "source": [
    "### 1. Write a Python Program to Find the Factorial of a Number?"
   ]
  },
  {
   "cell_type": "code",
   "execution_count": 10,
   "id": "2c2458ef",
   "metadata": {},
   "outputs": [
    {
     "name": "stdout",
     "output_type": "stream",
     "text": [
      "Enter a number: 15\n",
      "The factorial of 15 is 1307674368000\n"
     ]
    }
   ],
   "source": [
    "num = int(input(\"Enter a number: \"))    \n",
    "factorial = 1    \n",
    "if num < 0:    \n",
    "   print(\" Factorial does not exist for negative numbers\")    \n",
    "elif num == 0:    \n",
    "   print(\"The factorial of 0 is 1\")    \n",
    "else:    \n",
    "   for i in range(1,num + 1):    \n",
    "       factorial = factorial*i    \n",
    "   print(\"The factorial of\",num,\"is\",factorial)   "
   ]
  },
  {
   "cell_type": "markdown",
   "id": "e6beef62",
   "metadata": {},
   "source": [
    "### 2. Write a Python Program to Display the multiplication Table?"
   ]
  },
  {
   "cell_type": "code",
   "execution_count": 21,
   "id": "65378f55",
   "metadata": {},
   "outputs": [
    {
     "name": "stdout",
     "output_type": "stream",
     "text": [
      " Enter any Positive Integer less than 10 : 10\n",
      "10  *  1  =  10\n",
      "10  *  2  =  20\n",
      "10  *  3  =  30\n",
      "10  *  4  =  40\n",
      "10  *  5  =  50\n",
      "10  *  6  =  60\n",
      "10  *  7  =  70\n",
      "10  *  8  =  80\n",
      "10  *  9  =  90\n",
      "10  *  10  =  100\n",
      "=\n"
     ]
    }
   ],
   "source": [
    "i = int(input(\" Enter any Positive Integer less than 10 : \"))\n",
    "while(i <= 10):\n",
    "    j = 1\n",
    "    while(j <= 10):\n",
    "        print('{0}  *  {1}  =  {2}'.format(i, j, i*j))\n",
    "        j = j + 1\n",
    "    print('=')\n",
    "    i = i + 1"
   ]
  },
  {
   "cell_type": "markdown",
   "id": "7de7eba5",
   "metadata": {},
   "source": [
    "### 3. Write a Python Program to Print the Fibonacci sequence?\n"
   ]
  },
  {
   "cell_type": "code",
   "execution_count": 18,
   "id": "9e937422",
   "metadata": {},
   "outputs": [
    {
     "name": "stdout",
     "output_type": "stream",
     "text": [
      "0\n",
      "1\n",
      "1\n",
      "2\n",
      "3\n",
      "5\n",
      "8\n",
      "13\n",
      "21\n",
      "34\n"
     ]
    }
   ],
   "source": [
    "def fib(n):\n",
    "    a = 0\n",
    "    b = 1\n",
    "    if n == 1:\n",
    "        print(a)\n",
    "    else:\n",
    "        print(a)\n",
    "        print(b)\n",
    "        for i in range(2,n):\n",
    "            c = a + b\n",
    "            a = b\n",
    "            b = c\n",
    "            print(c)\n",
    "fib(10)"
   ]
  },
  {
   "cell_type": "markdown",
   "id": "0446442e",
   "metadata": {},
   "source": [
    "### 4. Write a Python Program to Check Armstrong Number?"
   ]
  },
  {
   "cell_type": "code",
   "execution_count": 22,
   "id": "ac2ed89b",
   "metadata": {},
   "outputs": [
    {
     "name": "stdout",
     "output_type": "stream",
     "text": [
      "Enter the Number to Check: 120\n",
      "120 is Not.\n"
     ]
    }
   ],
   "source": [
    "Num = int(input(\"Enter the Number to Check: \"))\n",
    "\n",
    "Sum = 0\n",
    "Times = 0\n",
    "\n",
    "Temp = Num\n",
    "while Temp > 0:\n",
    "    Times = Times + 1\n",
    "    Temp = Temp // 10\n",
    "\n",
    "Temp = Num\n",
    "while Temp > 0:\n",
    "    Reminder = Temp % 10\n",
    "    Sum = Sum + (Reminder ** Times)\n",
    "    Temp //= 10\n",
    "\n",
    "if Num == Sum:\n",
    "           print(\"%d is Armstrong.\" %Num)\n",
    "else:\n",
    "           print(\"%d is Not.\" %Num)"
   ]
  },
  {
   "cell_type": "markdown",
   "id": "a6f9adfe",
   "metadata": {},
   "source": [
    "### 5. Write a Python Program to Find Armstrong Number in an Interval?"
   ]
  },
  {
   "cell_type": "code",
   "execution_count": 24,
   "id": "78b3cbc3",
   "metadata": {},
   "outputs": [
    {
     "name": "stdout",
     "output_type": "stream",
     "text": [
      "Enter lower range: 200\n",
      "Enter upper range: 400\n",
      "370\n",
      "371\n"
     ]
    }
   ],
   "source": [
    "lower = int(input(\"Enter lower range: \"))\n",
    "upper = int(input(\"Enter upper range: \"))\n",
    " \n",
    "for num in range(lower, upper + 1):\n",
    " \n",
    "   # order of number\n",
    "   order = len(str(num))\n",
    "     \n",
    "   # initialize sum\n",
    "   sum = 0\n",
    " \n",
    "   temp = num\n",
    "   while temp > 0:\n",
    "       digit = temp % 10\n",
    "       sum += digit ** order\n",
    "       temp //= 10\n",
    " \n",
    "   if num == sum:\n",
    "       print(num)"
   ]
  },
  {
   "cell_type": "markdown",
   "id": "157cad60",
   "metadata": {},
   "source": [
    "### 6. Write a Python Program to Find the Sum of Natural Numbers?"
   ]
  },
  {
   "cell_type": "code",
   "execution_count": 26,
   "id": "d6143adb",
   "metadata": {},
   "outputs": [
    {
     "name": "stdout",
     "output_type": "stream",
     "text": [
      "Enter any Number: 20\n",
      "The Sum of Natural Numbers from 1 to 20 =  210\n"
     ]
    }
   ],
   "source": [
    "number = int(input(\"Enter any Number: \"))\n",
    " \n",
    "total = 0\n",
    "value = 1\n",
    " \n",
    "while (value <= number):\n",
    "    total = total + value\n",
    "    value = value + 1\n",
    " \n",
    "print(\"The Sum of Natural Numbers from 1 to {0} =  {1}\".format(number, total))"
   ]
  },
  {
   "cell_type": "code",
   "execution_count": null,
   "id": "4d7c2bbc",
   "metadata": {},
   "outputs": [],
   "source": []
  }
 ],
 "metadata": {
  "kernelspec": {
   "display_name": "Python 3 (ipykernel)",
   "language": "python",
   "name": "python3"
  },
  "language_info": {
   "codemirror_mode": {
    "name": "ipython",
    "version": 3
   },
   "file_extension": ".py",
   "mimetype": "text/x-python",
   "name": "python",
   "nbconvert_exporter": "python",
   "pygments_lexer": "ipython3",
   "version": "3.9.13"
  }
 },
 "nbformat": 4,
 "nbformat_minor": 5
}
